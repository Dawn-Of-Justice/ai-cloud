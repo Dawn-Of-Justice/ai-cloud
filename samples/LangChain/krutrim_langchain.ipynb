{
 "cells": [
  {
   "cell_type": "markdown",
   "metadata": {
    "notebookRunGroups": {
     "groupValue": "2"
    }
   },
   "source": [
    "# Krutrim Sample Langchain Usage\n",
    "\n",
    "## Dependencies"
   ]
  },
  {
   "cell_type": "code",
   "execution_count": 20,
   "metadata": {},
   "outputs": [],
   "source": [
    "# Importing OpenAI's chat capabilities from langchain_openai\n",
    "from langchain_openai import ChatOpenAI  \n",
    "\n",
    "# Importing the function to load environment variables\n",
    "from dotenv import load_dotenv  \n",
    "\n",
    "# Importing message classes for AI and human interactions\n",
    "from langchain_core.messages import HumanMessage  \n",
    "\n",
    "# Importing template and placeholder classes for chat prompts\n",
    "from langchain_core.prompts import ChatPromptTemplate, MessagesPlaceholder  \n",
    "\n",
    "# Importing the os module for interacting with the operating system\n",
    "import os  \n",
    "\n",
    "# Importing json for parsing JSON strings\n",
    "import json  "
   ]
  },
  {
   "cell_type": "markdown",
   "metadata": {},
   "source": [
    "## Load Environment variables"
   ]
  },
  {
   "cell_type": "code",
   "execution_count": 21,
   "metadata": {},
   "outputs": [],
   "source": [
    "load_dotenv()\n",
    "\n",
    "# Retrieve the API key\n",
    "api_key = os.getenv('API_KEY')  \n",
    "\n",
    "# Retrieve the base URL\n",
    "endpoint = os.getenv('BASE_URL')  \n",
    "\n",
    "# Retrieve the Model\n",
    "model_name=os.getenv('MODEL')"
   ]
  },
  {
   "cell_type": "markdown",
   "metadata": {},
   "source": [
    "## ChatCompletion with Krutrim API"
   ]
  },
  {
   "cell_type": "markdown",
   "metadata": {},
   "source": [
    "Create a ChatOpenAI instance with specified parameters"
   ]
  },
  {
   "cell_type": "code",
   "execution_count": 22,
   "metadata": {},
   "outputs": [],
   "source": [
    "chat = ChatOpenAI(api_key=api_key, base_url=endpoint, model=model_name)"
   ]
  },
  {
   "cell_type": "code",
   "execution_count": 23,
   "metadata": {},
   "outputs": [],
   "source": [
    "# Set maximum token limit for the chat model\n",
    "chat.max_tokens = 512\n",
    "\n",
    "# Configure model-specific parameters\n",
    "chat.model_kwargs = {\"top_p\": 0.8, \"frequency_penalty\": 0.0, \"presence_penalty\": 0.0, \"stop\":[\"<|eot_id|>\",\"<|im_start|>\",\"<|im_end|>\"]}"
   ]
  },
  {
   "cell_type": "code",
   "execution_count": 24,
   "metadata": {},
   "outputs": [],
   "source": [
    "# Define a chat prompt template with pre-defined system and human messages\n",
    "prompt = ChatPromptTemplate.from_messages(\n",
    "    [\n",
    "        (\n",
    "            \"system\",\n",
    "            \"You are a helpful assistant. Helps writing email in Hindi Language.\",\n",
    "        ),\n",
    "        MessagesPlaceholder(variable_name=\"messages\"),\n",
    "    ]\n",
    ")"
   ]
  },
  {
   "cell_type": "code",
   "execution_count": 25,
   "metadata": {},
   "outputs": [],
   "source": [
    "# Chain the prompt and chat objects to form a processing pipeline\n",
    "chain = prompt | chat"
   ]
  },
  {
   "cell_type": "code",
   "execution_count": 26,
   "metadata": {},
   "outputs": [],
   "source": [
    "# Invoke the processing chain with specific messages\n",
    "response = chain.invoke(\n",
    "    {\n",
    "        \"messages\": [\n",
    "            HumanMessage(\n",
    "                content=\"Please write email in proper format sender name is Virat Kohli and receipent name is Dhoni, about sad performance of RCB in IPL.\"\n",
    "            )\n",
    "        ],\n",
    "    }\n",
    ")"
   ]
  },
  {
   "cell_type": "code",
   "execution_count": 27,
   "metadata": {},
   "outputs": [
    {
     "name": "stdout",
     "output_type": "stream",
     "text": [
      "Here is an email in Hindi:\n",
      "\n",
      "Subject: रॉयल चैलेंजर्स बेंगलुरु की आईपीएल प्रदर्शन की समस्या\n",
      "\n",
      "From: विराट कोहली (Virat Kohli)\n",
      "To: महेंद्र सिंह धोनी (Mahendra Singh Dhoni)\n",
      "\n",
      "प्रिय महेंद्र,\n",
      "\n",
      "आईपीएल के हाल के संस्करण में रॉयल चैलेंजर्स बेंगलुरु की प्रदर्शन की समस्या मैंने देखी है. हमारी टीम के लिए यह संस्करण काफी निराशाजनक रहा है. हमने अपने संस्थापक संस्करण में इतना अच्छा प्रदर्शन किया था, लेकिन अब हमें अपने प्रदर्शन में सुधार करने की आवश्यकता है.\n",
      "\n",
      "हमारे पास अच्छे खिलाड़ी हैं, लेकिन हमें अपने प्रदर्शन को बेहतर बनाने की आवश्यकता है. हमें अपने स्वागत और फील्डिंग में सुधार करने की आवश्यकता है. हमें अपने बल्लेबाजी और गेंदबाजी में सुधार करने की आवश्यकता है. हमें अपने टीम के साथ एक साथ काम करने की आवश्यकता है और अपने लक्ष्य को प्राप्त करने की आवश्यकता है.\n",
      "\n",
      "मैं आपके साथ मिलकर अपने टीम के प्रदर्शन को सुधारने की कोशिश करूँगा. हमें अपने टीम के साथ एक साथ काम करने की आवश्यकता है और अपने लक्ष्य को प्राप्त करने की आवश्यकता है. मैं आपके साथ मिलकर अपने टीम के प्रदर्शन को सुधारने की कोशिश करूँगा.\n",
      "\n",
      "अंत में, मैं आपके साथ मिलकर अपने टीम के प्रदर्शन को सुधारने की कोशिश करूँगा. हमें अपने टीम के साथ एक साथ काम करन\n"
     ]
    }
   ],
   "source": [
    "# Print the result of the chat processing\n",
    "print(response.content)"
   ]
  }
 ],
 "metadata": {
  "kernelspec": {
   "display_name": "Python 3 (ipykernel)",
   "language": "python",
   "name": "python3"
  },
  "language_info": {
   "codemirror_mode": {
    "name": "ipython",
    "version": 3
   },
   "file_extension": ".py",
   "mimetype": "text/x-python",
   "name": "python",
   "nbconvert_exporter": "python",
   "pygments_lexer": "ipython3",
   "version": "3.10.0"
  }
 },
 "nbformat": 4,
 "nbformat_minor": 4
}
